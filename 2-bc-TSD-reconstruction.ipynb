{
 "cells": [
  {
   "cell_type": "code",
   "execution_count": 1,
   "metadata": {
    "collapsed": true
   },
   "outputs": [],
   "source": [
    "import networkx as nx\n",
    "import numpy as np\n",
    "import sys\n",
    "from heapdict import *\n",
    "import matplotlib.pyplot as plt\n",
    "from sklearn.metrics import classification_report, average_precision_score, roc_auc_score\n",
    "\n",
    "from utils import *"
   ]
  },
  {
   "cell_type": "markdown",
   "metadata": {},
   "source": [
    "# Hierarchical metrics"
   ]
  },
  {
   "cell_type": "markdown",
   "metadata": {},
   "source": [
    "## Euclidean divergence"
   ]
  },
  {
   "cell_type": "code",
   "execution_count": 2,
   "metadata": {
    "collapsed": true
   },
   "outputs": [],
   "source": [
    "def euclidean(graph, dendrogram):\n",
    "    graph_copy = graph.copy()\n",
    "    n_nodes = np.shape(dendrogram)[0] + 1\n",
    "\n",
    "    w = {u: 0 for u in range(n_nodes)}\n",
    "    wtot = 0\n",
    "    for (u, v) in graph_copy.edges():\n",
    "        weight = graph_copy[u][v]['weight']\n",
    "        w[u] += weight\n",
    "        w[v] += weight\n",
    "        wtot += 2 * weight\n",
    "    \n",
    "    u = n_nodes\n",
    "    similarity = 0\n",
    "    sum_qsig = 0\n",
    "    pi = {t: w[t]/float(wtot) for t in range(n_nodes)}\n",
    "    for t in range(n_nodes - 1):\n",
    "        a = int(dendrogram[t][0])\n",
    "        b = int(dendrogram[t][1])\n",
    "        d = dendrogram[t][2]\n",
    "\n",
    "        w[u] = w.pop(a) + w.pop(b)\n",
    "        pi[u] = w[u] / float(wtot)\n",
    "\n",
    "        pi_a = pi[a]\n",
    "        pi_b = pi[b]\n",
    "        if graph_copy.has_edge(a, b):\n",
    "            p_ab = 2 * graph_copy[a][b]['weight'] / float(wtot)\n",
    "            similarity += (p_ab - (pi_a * pi_b))**2\n",
    "\n",
    "        # Update graph\n",
    "        graph_copy.add_node(u)\n",
    "        neighbors_a = list(graph_copy.neighbors(a))\n",
    "        neighbors_b = list(graph_copy.neighbors(b))\n",
    "        for v in neighbors_a:\n",
    "            graph_copy.add_edge(u, v, weight=graph_copy[a][v]['weight'])\n",
    "        for v in neighbors_b:\n",
    "            if graph_copy.has_edge(u, v):\n",
    "                graph_copy[u][v]['weight'] += graph_copy[b][v]['weight']\n",
    "            else:\n",
    "                graph_copy.add_edge(u, v, weight=graph_copy[b][v]['weight'])\n",
    "        graph_copy.remove_node(a)\n",
    "        graph_copy.remove_node(b)\n",
    "\n",
    "        u += 1\n",
    "\n",
    "    return similarity"
   ]
  },
  {
   "cell_type": "markdown",
   "metadata": {},
   "source": [
    "## Dasgupta divergence"
   ]
  },
  {
   "cell_type": "code",
   "execution_count": 3,
   "metadata": {
    "collapsed": true
   },
   "outputs": [],
   "source": [
    "def dasgupta(graph, dendrogram):\n",
    "    graph_copy = graph.copy()\n",
    "    n_nodes = np.shape(dendrogram)[0] + 1\n",
    "\n",
    "    w = {u: 0 for u in range(n_nodes)}\n",
    "    wtot = 0\n",
    "    for (u, v) in graph_copy.edges():\n",
    "        weight = graph_copy[u][v]['weight']\n",
    "        w[u] += 1\n",
    "        w[v] += 1\n",
    "        wtot += 2\n",
    "    \n",
    "    u = n_nodes\n",
    "    similarity = 0\n",
    "    sum_qsig = 0\n",
    "    pi = {t: w[t]/float(wtot) for t in range(n_nodes)}\n",
    "    for t in range(n_nodes - 1):\n",
    "        a = int(dendrogram[t][0])\n",
    "        b = int(dendrogram[t][1])\n",
    "        d = dendrogram[t][2]\n",
    "\n",
    "        w[u] = w.pop(a) + w.pop(b)\n",
    "        pi[u] = w[u] / float(wtot)\n",
    "\n",
    "        pi_a = pi[a]\n",
    "        pi_b = pi[b]\n",
    "        if graph_copy.has_edge(a, b):\n",
    "            p_ab = 2 * graph_copy[a][b]['weight'] / float(wtot)\n",
    "            similarity += p_ab * (pi_a + pi_b)\n",
    "\n",
    "        # Update graph\n",
    "        graph_copy.add_node(u)\n",
    "        neighbors_a = list(graph_copy.neighbors(a))\n",
    "        neighbors_b = list(graph_copy.neighbors(b))\n",
    "        for v in neighbors_a:\n",
    "            graph_copy.add_edge(u, v, weight=graph_copy[a][v]['weight'])\n",
    "        for v in neighbors_b:\n",
    "            if graph_copy.has_edge(u, v):\n",
    "                graph_copy[u][v]['weight'] += graph_copy[b][v]['weight']\n",
    "            else:\n",
    "                graph_copy.add_edge(u, v, weight=graph_copy[b][v]['weight'])\n",
    "        graph_copy.remove_node(a)\n",
    "        graph_copy.remove_node(b)\n",
    "\n",
    "        u += 1\n",
    "\n",
    "    return similarity"
   ]
  },
  {
   "cell_type": "markdown",
   "metadata": {},
   "source": [
    "## Tree Sampling Divergence "
   ]
  },
  {
   "cell_type": "code",
   "execution_count": 4,
   "metadata": {
    "collapsed": true
   },
   "outputs": [],
   "source": [
    "def tsd(graph, dendrogram, normalized=True):\n",
    "    graph_copy = graph.copy()\n",
    "    n_nodes = np.shape(dendrogram)[0] + 1\n",
    "\n",
    "    w = {u: 0 for u in range(n_nodes)}\n",
    "    wtot = 0\n",
    "    for (u, v) in graph_copy.edges():\n",
    "        weight = graph_copy[u][v]['weight']\n",
    "        w[u] += weight\n",
    "        w[v] += weight\n",
    "        wtot += 2 * weight\n",
    "    \n",
    "    u = n_nodes\n",
    "    similarity = 0\n",
    "    sum_qsig = 0\n",
    "    pi = {t: w[t]/float(wtot) for t in range(n_nodes)}\n",
    "    p = {t: w[t]/float(wtot) for t in range(n_nodes)}\n",
    "    for t in range(n_nodes - 1):\n",
    "        a = int(dendrogram[t][0])\n",
    "        b = int(dendrogram[t][1])\n",
    "        d = dendrogram[t][2]\n",
    "\n",
    "        w[u] = w.pop(a) + w.pop(b)\n",
    "        pi[u] = w[u] / float(wtot)\n",
    "\n",
    "        pi_a = pi[a]\n",
    "        pi_b = pi[b]\n",
    "        if graph_copy.has_edge(a, b):\n",
    "            p_ab = 2 * graph_copy[a][b]['weight'] / float(wtot)\n",
    "            similarity += p_ab * np.log(p_ab / (pi_a * pi_b))\n",
    "            sum_qsig += p_ab\n",
    "\n",
    "        # Update graph\n",
    "        graph_copy.add_node(u)\n",
    "        neighbors_a = list(graph_copy.neighbors(a))\n",
    "        neighbors_b = list(graph_copy.neighbors(b))\n",
    "        for v in neighbors_a:\n",
    "            graph_copy.add_edge(u, v, weight=graph_copy[a][v]['weight'])\n",
    "        for v in neighbors_b:\n",
    "            if graph_copy.has_edge(u, v):\n",
    "                graph_copy[u][v]['weight'] += graph_copy[b][v]['weight']\n",
    "            else:\n",
    "                graph_copy.add_edge(u, v, weight=graph_copy[b][v]['weight'])\n",
    "        graph_copy.remove_node(a)\n",
    "        graph_copy.remove_node(b)\n",
    "\n",
    "        u += 1\n",
    "    \n",
    "    similarity -= np.log(sum_qsig)\n",
    "    \n",
    "    if normalized:\n",
    "        norm = 0\n",
    "        for u, v in graph.edges():\n",
    "            p_uv = 2 * graph[u][v]['weight'] / float(wtot)\n",
    "            norm += p_uv * np.log(p_uv / (p[u] * p[v]))\n",
    "        similarity /= norm\n",
    "    return similarity"
   ]
  },
  {
   "cell_type": "markdown",
   "metadata": {},
   "source": [
    "# Reconstruction score"
   ]
  },
  {
   "cell_type": "code",
   "execution_count": 5,
   "metadata": {
    "collapsed": true
   },
   "outputs": [],
   "source": [
    "def reconstruction_score(graph, dendrogram):\n",
    "    graph_copy = graph.copy()\n",
    "    n_nodes = np.shape(dendrogram)[0] + 1\n",
    "    reconstructed_score = np.zeros((n_nodes, n_nodes))\n",
    "\n",
    "    w = {u: 0 for u in range(n_nodes)}\n",
    "    wtot = 0\n",
    "    for (u, v) in graph_copy.edges():\n",
    "        weight = graph_copy[u][v]['weight']\n",
    "        w[u] += weight\n",
    "        w[v] += weight\n",
    "        wtot += 2 * weight\n",
    "    p = {u: w[u] / float(wtot) for u in range(n_nodes)}\n",
    "    c = {u: [u] for u in range(n_nodes)}\n",
    "    \n",
    "    pi = {t: w[t] / float(wtot) for t in range(n_nodes)}\n",
    "    \n",
    "    u = n_nodes\n",
    "    for t in range(n_nodes - 1):\n",
    "        a = int(dendrogram[t][0])\n",
    "        b = int(dendrogram[t][1])\n",
    "        \n",
    "        w[u] = w.pop(a) + w.pop(b)\n",
    "        pi[u] = w[u] / float(wtot)\n",
    "        pi_a = pi[a]\n",
    "        pi_b = pi[b]\n",
    "        if graph_copy.has_edge(a, b):\n",
    "            p_ab = 2 * graph_copy[a][b]['weight'] / float(wtot)\n",
    "        else:\n",
    "            p_ab = 0\n",
    "        \n",
    "        for i in c[a]:\n",
    "            for j in c[b]:\n",
    "                reconstructed_score[i, j] = p[i] * p[j] * p_ab / (pi_a * pi_b)\n",
    "                reconstructed_score[j, i] = reconstructed_score[i, j]\n",
    "        c[u] = c.pop(a) + c.pop(b)\n",
    "\n",
    "        # Update graph\n",
    "        graph_copy.add_node(u)\n",
    "        neighbors_a = list(graph_copy.neighbors(a))\n",
    "        neighbors_b = list(graph_copy.neighbors(b))\n",
    "        for v in neighbors_a:\n",
    "            graph_copy.add_edge(u, v, weight=graph_copy[a][v]['weight'])\n",
    "        for v in neighbors_b:\n",
    "            if graph_copy.has_edge(u, v):\n",
    "                graph_copy[u][v]['weight'] += graph_copy[b][v]['weight']\n",
    "            else:\n",
    "                graph_copy.add_edge(u, v, weight=graph_copy[b][v]['weight'])\n",
    "        graph_copy.remove_node(a)\n",
    "        graph_copy.remove_node(b)\n",
    "\n",
    "        u += 1    \n",
    "\n",
    "    return reconstructed_score / np.sum(reconstructed_score)"
   ]
  },
  {
   "cell_type": "markdown",
   "metadata": {},
   "source": [
    "# Reconstruction from hierarchies"
   ]
  },
  {
   "cell_type": "markdown",
   "metadata": {},
   "source": [
    "## HSBM"
   ]
  },
  {
   "cell_type": "code",
   "execution_count": 6,
   "metadata": {
    "collapsed": true
   },
   "outputs": [],
   "source": [
    "def shuffle(graph, p):\n",
    "    graph_copy = graph.copy()\n",
    "    for u, v in list(graph_copy.edges()):\n",
    "        if np.random.choice([False, True], p=[p, 1 - p]):\n",
    "            u_, v_ = np.random.choice(graph_copy.nodes(), 2, replace=False)\n",
    "            graph_copy.add_edge(u_, v_, weight=graph_copy[u][v]['weight'])\n",
    "            graph_copy.remove_edge(u, v)\n",
    "    return graph_copy"
   ]
  },
  {
   "cell_type": "code",
   "execution_count": 7,
   "metadata": {
    "collapsed": true
   },
   "outputs": [],
   "source": [
    "def rank_score(graph, score):\n",
    "    rank_score = []\n",
    "    for u, v in graph.edges():\n",
    "        \n",
    "        rank_u = np.argsort(-score[u,:])\n",
    "        for r, w in enumerate(rank_u):\n",
    "            if w in graph.neighbors(u):\n",
    "                rank_score.append(r)\n",
    "        \n",
    "        rank_v = np.argsort(-score[v,:])\n",
    "        for r, w in enumerate(rank_v):\n",
    "            if w in graph.neighbors(v):\n",
    "                rank_score.append(r)\n",
    "                \n",
    "    return np.mean(rank_score)"
   ]
  },
  {
   "cell_type": "code",
   "execution_count": 8,
   "metadata": {
    "collapsed": true
   },
   "outputs": [],
   "source": [
    "hierarchical_algorithms = {'single': lambda graph: agglomerative_clustering(graph, linkage='single', f= lambda x: 1/float(x), check=True), \n",
    "                          'average': lambda graph: agglomerative_clustering(graph, linkage='average', f= lambda x: 1/float(x), check=True),\n",
    "                          'complete': lambda graph: agglomerative_clustering(graph, linkage='complete', f= lambda x: 1/float(x), check=True),\n",
    "                          'modular': lambda graph: agglomerative_clustering(graph, linkage='modular', f= lambda x: 1/float(x), check=True)}"
   ]
  },
  {
   "cell_type": "markdown",
   "metadata": {},
   "source": [
    "## Reconstruction 1: shuffled graph"
   ]
  },
  {
   "cell_type": "code",
   "execution_count": 26,
   "metadata": {},
   "outputs": [
    {
     "data": {
      "image/png": "[encoded data removed]",
      "text/plain": [
       "<matplotlib.figure.Figure at 0x7eff850dabd0>"
      ]
     },
     "metadata": {},
     "output_type": "display_data"
    }
   ],
   "source": [
    "markers = ['o', '^', '8', 's', 'p', '*']\n",
    "i = 0\n",
    "plt.figure(figsize=(10, 10))\n",
    "\n",
    "clean_hsbm = HSBM.balanced(n_levels=3, decay_factor=.3, division_factor=2, core_community_size=20, p_in=.9)\n",
    "real_graph = clean_hsbm.create_graph(distribution='Binomial')\n",
    "adj = nx.to_numpy_matrix(real_graph)\n",
    "n_nodes = real_graph.number_of_nodes()\n",
    "adj_true = np.reshape(nx.to_numpy_array(real_graph), n_nodes * n_nodes)\n",
    "adj_true = adj_true.astype(bool).astype(int)\n",
    "for algo_name, algo in hierarchical_algorithms.items():\n",
    "    aps, auc, rank = [], [], []\n",
    "    euc, das, tsds = [], [], []\n",
    "    for p in np.linspace(0., 1., num=100):\n",
    "        shuffled_graph = shuffle(real_graph, p)\n",
    "        d = algo(shuffled_graph)\n",
    "\n",
    "        reconstructed_adj = reconstruction_score(real_graph, d)\n",
    "        adj_score = np.reshape(reconstructed_adj, n_nodes * n_nodes)\n",
    "\n",
    "        aps.append(average_precision_score(adj_true, adj_score))\n",
    "        auc.append(roc_auc_score(adj_true, adj_score))\n",
    "        rank.append(rank_score(real_graph, reconstructed_adj))\n",
    "\n",
    "        tsds.append(tsd(real_graph, d))\n",
    "        das.append(dasgupta(real_graph, d))\n",
    "        euc.append(euclidean(real_graph, d))\n",
    "            \n",
    "    plt.scatter(tsds, auc, label=algo_name, marker=markers[i])\n",
    "    plt.legend()\n",
    "    i += 1\n",
    "plt.show()"
   ]
  },
  {
   "cell_type": "code",
   "execution_count": null,
   "metadata": {
    "collapsed": true
   },
   "outputs": [],
   "source": [
    "clean_hsbm = HSBM.balanced(n_levels=3, decay_factor=.3, division_factor=2, core_community_size=20, p_in=.9)\n",
    "real_graph = clean_hsbm.create_graph(distribution='Binomial')\n",
    "adj = nx.to_numpy_matrix(real_graph)\n",
    "n_nodes = real_graph.number_of_nodes()\n",
    "adj_true = np.reshape(nx.to_numpy_array(real_graph), n_nodes * n_nodes)\n",
    "adj_true = adj_true.astype(bool).astype(int)\n",
    "aps, auc, rank = [], [], []\n",
    "euc, das, tsds = [], [], []\n",
    "for algo_name, algo in hierarchical_algorithms.items():\n",
    "    for p in np.linspace(0., 1., num=100):\n",
    "        shuffled_graph = shuffle(real_graph, p)\n",
    "        d = algo(shuffled_graph)\n",
    "\n",
    "        reconstructed_adj = reconstruction_score(real_graph, d)\n",
    "        adj_score = np.reshape(reconstructed_adj, n_nodes * n_nodes)\n",
    "\n",
    "        aps.append(average_precision_score(adj_true, adj_score))\n",
    "        auc.append(roc_auc_score(adj_true, adj_score))\n",
    "        rank.append(rank_score(real_graph, reconstructed_adj))\n",
    "\n",
    "        tsds.append(tsd(real_graph, d))\n",
    "        das.append(dasgupta(real_graph, d))\n",
    "        euc.append(euclidean(real_graph, d))"
   ]
  },
  {
   "cell_type": "code",
   "execution_count": null,
   "metadata": {
    "collapsed": true
   },
   "outputs": [],
   "source": [
    "auc = np.array(auc)\n",
    "aps = np.array(aps)\n",
    "rank = np.array(rank)\n",
    "tsds = np.array(tsds)\n",
    "das = np.array(das)\n",
    "euc = np.array(euc)"
   ]
  },
  {
   "cell_type": "code",
   "execution_count": null,
   "metadata": {
    "collapsed": true
   },
   "outputs": [],
   "source": [
    "np.savetxt(\"auc-1.txt\", auc)\n",
    "np.savetxt(\"aps-1.txt\", aps)\n",
    "np.savetxt(\"rank-1.txt\", rank)\n",
    "np.savetxt(\"tsd-1.txt\", tsds)\n",
    "np.savetxt(\"das-1.txt\", das)\n",
    "np.savetxt(\"euc-1.txt\", euc)\n",
    "\n",
    "auc = np.loadtxt(\"auc-1.txt\")\n",
    "aps = np.loadtxt(\"aps-1.txt\")\n",
    "rank = np.loadtxt(\"rank-1.txt\")\n",
    "tsd = np.loadtxt(\"tsd-1.txt\")\n",
    "das = np.loadtxt(\"das-1.txt\")\n",
    "euc = np.loadtxt(\"euc-1.txt\")"
   ]
  },
  {
   "cell_type": "code",
   "execution_count": null,
   "metadata": {},
   "outputs": [],
   "source": [
    "plt.figure(figsize=(10,5))\n",
    "plt.scatter(tsds, aps, label=\"aps\")\n",
    "plt.scatter(tsds, auc, label=\"auc\")\n",
    "plt.legend()\n",
    "plt.show()\n",
    "plt.figure(figsize=(10,5))\n",
    "plt.scatter(tsds, rank, label=\"rank\", color='g')\n",
    "plt.legend()\n",
    "plt.show()\n",
    "print(np.corrcoef(tsds, aps)[0, 1])\n",
    "print(np.corrcoef(tsds, auc)[0, 1])\n",
    "print(np.corrcoef(tsds, rank)[0, 1])"
   ]
  },
  {
   "cell_type": "code",
   "execution_count": null,
   "metadata": {},
   "outputs": [],
   "source": [
    "plt.figure(figsize=(10,5))\n",
    "plt.scatter(das, auc, label=\"aps\")\n",
    "plt.scatter(das, aps, label=\"auc\")\n",
    "plt.legend()\n",
    "plt.show()\n",
    "plt.figure(figsize=(10,5))\n",
    "plt.scatter(das, rank, label=\"rank\", color='g')\n",
    "plt.legend()\n",
    "plt.show()\n",
    "print(np.corrcoef(das, aps)[0, 1])\n",
    "print(np.corrcoef(das, auc)[0, 1])\n",
    "print(np.corrcoef(das, rank)[0, 1])"
   ]
  },
  {
   "cell_type": "code",
   "execution_count": null,
   "metadata": {},
   "outputs": [],
   "source": [
    "plt.figure(figsize=(10,5))\n",
    "plt.scatter(euc, aps, label=\"aps\")\n",
    "plt.scatter(euc, auc, label=\"auc\")\n",
    "plt.legend()\n",
    "plt.show()\n",
    "plt.figure(figsize=(10,5))\n",
    "plt.scatter(euc, rank, label=\"rank\", color='g')\n",
    "plt.legend()\n",
    "plt.show()\n",
    "print(np.corrcoef(euc, aps)[0, 1])\n",
    "print(np.corrcoef(euc, auc)[0, 1])\n",
    "print(np.corrcoef(euc, rank)[0, 1])"
   ]
  },
  {
   "cell_type": "markdown",
   "metadata": {},
   "source": [
    "## Reconstruction 2: HSBM with different weights"
   ]
  },
  {
   "cell_type": "code",
   "execution_count": 15,
   "metadata": {
    "collapsed": true
   },
   "outputs": [],
   "source": [
    "aps, auc, rank = [], [], []\n",
    "euc, das, tsds = [], [], []\n",
    "for p in np.linspace(.1, .5, num=50):\n",
    "    clean_hsbm = HSBM.balanced(n_levels=3, decay_factor=p, division_factor=2, core_community_size=20, p_in=.5)\n",
    "    graph = clean_hsbm.create_graph(distribution='Binomial')\n",
    "    adj = nx.to_numpy_matrix(graph)\n",
    "    n_nodes = graph.number_of_nodes()\n",
    "    adj_true = np.reshape(nx.to_numpy_array(graph), n_nodes * n_nodes)\n",
    "    adj_true = adj_true.astype(bool).astype(int)\n",
    "    for algo_name, algo in hierarchical_algorithms.items():\n",
    "        d = algo(graph)\n",
    "\n",
    "        reconstructed_adj = reconstruction_score(graph, d)\n",
    "        adj_score = np.reshape(reconstructed_adj, n_nodes * n_nodes)\n",
    "        \n",
    "        aps.append(average_precision_score(adj_true, adj_score))\n",
    "        auc.append(roc_auc_score(adj_true, adj_score))\n",
    "        rank.append(rank_score(graph, reconstructed_adj))\n",
    "        \n",
    "        tsds.append(tsd(graph, d))\n",
    "        das.append(dasgupta(graph, d))\n",
    "        euc.append(euclidean(graph, d))"
   ]
  },
  {
   "cell_type": "code",
   "execution_count": 16,
   "metadata": {
    "collapsed": true
   },
   "outputs": [],
   "source": [
    "auc = np.array(auc)\n",
    "aps = np.array(aps)\n",
    "rank = np.array(rank)\n",
    "tsds = np.array(tsds)\n",
    "das = np.array(das)\n",
    "euc = np.array(euc)"
   ]
  },
  {
   "cell_type": "code",
   "execution_count": 17,
   "metadata": {
    "collapsed": true
   },
   "outputs": [],
   "source": [
    "np.savetxt(\"auc-2.txt\", auc)\n",
    "np.savetxt(\"aps-2.txt\", aps)\n",
    "np.savetxt(\"rank-2.txt\", rank)\n",
    "np.savetxt(\"tsd-2.txt\", tsds)\n",
    "np.savetxt(\"das-2.txt\", das)\n",
    "np.savetxt(\"euc-2.txt\", euc)"
   ]
  },
  {
   "cell_type": "code",
   "execution_count": 18,
   "metadata": {},
   "outputs": [
    {
     "data": {
      "image/png": "[encoded data removed]",
      "text/plain": [
       "<matplotlib.figure.Figure at 0x7eff8551a3d0>"
      ]
     },
     "metadata": {},
     "output_type": "display_data"
    },
    {
     "data": {
      "image/png": "[encoded data removed]",
      "text/plain": [
       "<matplotlib.figure.Figure at 0x7eff857a3850>"
      ]
     },
     "metadata": {},
     "output_type": "display_data"
    },
    {
     "name": "stdout",
     "output_type": "stream",
     "text": [
      "0.981428928706\n",
      "0.964906152551\n",
      "-0.964632373565\n"
     ]
    }
   ],
   "source": [
    "plt.figure(figsize=(10,5))\n",
    "plt.scatter(tsds, aps, label=\"aps\")\n",
    "plt.scatter(tsds, auc, label=\"auc\")\n",
    "plt.legend()\n",
    "plt.show()\n",
    "plt.figure(figsize=(10,5))\n",
    "plt.scatter(tsds, rank, label=\"rank\", color='g')\n",
    "plt.legend()\n",
    "plt.show()\n",
    "print(np.corrcoef(tsds, aps)[0, 1])\n",
    "print(np.corrcoef(tsds, auc)[0, 1])\n",
    "print(np.corrcoef(tsds, rank)[0, 1])"
   ]
  },
  {
   "cell_type": "code",
   "execution_count": 19,
   "metadata": {},
   "outputs": [
    {
     "data": {
      "image/png": "[encoded data removed]",
      "text/plain": [
       "<matplotlib.figure.Figure at 0x7eff844178d0>"
      ]
     },
     "metadata": {},
     "output_type": "display_data"
    },
    {
     "data": {
      "image/png": "[encoded data removed]",
      "text/plain": [
       "<matplotlib.figure.Figure at 0x7eff848fbd10>"
      ]
     },
     "metadata": {},
     "output_type": "display_data"
    },
    {
     "name": "stdout",
     "output_type": "stream",
     "text": [
      "-0.908825682251\n",
      "-0.951250775625\n",
      "0.947037876569\n"
     ]
    }
   ],
   "source": [
    "plt.figure(figsize=(10,5))\n",
    "plt.scatter(das, auc, label=\"aps\")\n",
    "plt.scatter(das, aps, label=\"auc\")\n",
    "plt.legend()\n",
    "plt.show()\n",
    "plt.figure(figsize=(10,5))\n",
    "plt.scatter(das, rank, label=\"rank\", color='g')\n",
    "plt.legend()\n",
    "plt.show()\n",
    "print(np.corrcoef(das, aps)[0, 1])\n",
    "print(np.corrcoef(das, auc)[0, 1])\n",
    "print(np.corrcoef(das, rank)[0, 1])"
   ]
  },
  {
   "cell_type": "code",
   "execution_count": 20,
   "metadata": {},
   "outputs": [
    {
     "data": {
      "image/png": "[encoded data removed]",
      "text/plain": [
       "<matplotlib.figure.Figure at 0x7eff843ec610>"
      ]
     },
     "metadata": {},
     "output_type": "display_data"
    },
    {
     "data": {
      "image/png": "[encoded data removed]",
      "text/plain": [
       "<matplotlib.figure.Figure at 0x7eff857b37d0>"
      ]
     },
     "metadata": {},
     "output_type": "display_data"
    },
    {
     "name": "stdout",
     "output_type": "stream",
     "text": [
      "0.454460313397\n",
      "0.365486977252\n",
      "-0.366931234532\n"
     ]
    }
   ],
   "source": [
    "plt.figure(figsize=(10,5))\n",
    "plt.scatter(euc, aps, label=\"aps\")\n",
    "plt.scatter(euc, auc, label=\"auc\")\n",
    "plt.legend()\n",
    "plt.show()\n",
    "plt.figure(figsize=(10,5))\n",
    "plt.scatter(euc, rank, label=\"rank\", color='g')\n",
    "plt.legend()\n",
    "plt.show()\n",
    "print(np.corrcoef(euc, aps)[0, 1])\n",
    "print(np.corrcoef(euc, auc)[0, 1])\n",
    "print(np.corrcoef(euc, rank)[0, 1])"
   ]
  },
  {
   "cell_type": "code",
   "execution_count": null,
   "metadata": {
    "collapsed": true
   },
   "outputs": [],
   "source": []
  }
 ],
 "metadata": {
  "kernelspec": {
   "display_name": "Python 3",
   "language": "python",
   "name": "python3"
  },
  "language_info": {
   "codemirror_mode": {
    "name": "ipython",
    "version": 2
   },
   "file_extension": ".py",
   "mimetype": "text/x-python",
   "name": "python",
   "nbconvert_exporter": "python",
   "pygments_lexer": "ipython2",
   "version": "2.7.13"
  }
 },
 "nbformat": 4,
 "nbformat_minor": 2
}
